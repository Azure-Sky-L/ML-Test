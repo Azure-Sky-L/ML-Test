{
 "cells": [
  {
   "cell_type": "code",
   "execution_count": 1,
   "metadata": {},
   "outputs": [],
   "source": [
    "import sklearn\n",
    "import pandas as pd\n",
    "# 数据预处理：\n",
    "# step1：查看数据，分析数据\n",
    "# step2: 检查数据\n",
    "# step3: 把数据样本里的 ？ 填充为该特征的众数\n",
    "# step4：数据转换，把字符串转换为 int\n",
    "# 训练、测试：\n",
    "# step5：运用 sklearn 训练单个 model\n",
    "# step6：测试单个模型的准确度\n",
    "# step7：挑出比较好的模型进行融合\n",
    "# step8: 测试准确度\n",
    "# step9: 可视化每个特征对最终结果的影响程度\n",
    "# ste10: 只使用影响程度最大的几个特征，再次训练，测试\n",
    "\n",
    "#尝试提升准确度的过程：\n",
    "# step1: 挑出准确度较高的几个模型，进行融合\n",
    "#调参：\n",
    "# step2：微调单个模型的参数 (dt,knn,log = 9,7,1)\n",
    "# step3：调节融合模型的权重比例 (dt:knn:log = 23：3：0, 准确率： 0.8602051471039862)\n",
    "#一开始：log、knn、dt的准确度分别是：0.785,0.779,0.842,通过微调参数分别得到：0.8006,0.802,0.8573 的准确度\n",
    "# 从单个模型的预测准确度来看，dt 的效果明显好于 log 和 knn，所以在模型融合时给 dt 分配较高的权重\n",
    "# step4：可视化出每个特征对最终结果的影响程度，挑出决定作用最大的几个特征\n",
    "# step5：微调单个模型的参数 (dt,knn,log = 9,13,1)\n",
    "# 此时微调后的：log、knn、dt 的准确度分别是：0.803，0.8378，0.8497，log 有略微提升、knn 提升显著、dt 有一定下降\n",
    "# step6：调节融合模型的权重比例 （dt:knn:log = 7: 5：1，准确率：0.858731036177139）"
   ]
  },
  {
   "cell_type": "code",
   "execution_count": 723,
   "metadata": {},
   "outputs": [],
   "source": [
    "#添加列名\n",
    "train_data = pd.read_csv(\"./algo_question/adult.data\",names=['age','workclass','fnlwgt','education','education-num',\n",
    "                                'marital-status','occupation','relationship','race','sex',\n",
    "                                'capital-gain','capital-loss',\n",
    "                                'hours-per-week','native-country','classification'])"
   ]
  },
  {
   "cell_type": "code",
   "execution_count": 3,
   "metadata": {},
   "outputs": [
    {
     "data": {
      "text/html": [
       "<div>\n",
       "<style scoped>\n",
       "    .dataframe tbody tr th:only-of-type {\n",
       "        vertical-align: middle;\n",
       "    }\n",
       "\n",
       "    .dataframe tbody tr th {\n",
       "        vertical-align: top;\n",
       "    }\n",
       "\n",
       "    .dataframe thead th {\n",
       "        text-align: right;\n",
       "    }\n",
       "</style>\n",
       "<table border=\"1\" class=\"dataframe\">\n",
       "  <thead>\n",
       "    <tr style=\"text-align: right;\">\n",
       "      <th></th>\n",
       "      <th>age</th>\n",
       "      <th>workclass</th>\n",
       "      <th>fnlwgt</th>\n",
       "      <th>education</th>\n",
       "      <th>education-num</th>\n",
       "      <th>marital-status</th>\n",
       "      <th>occupation</th>\n",
       "      <th>relationship</th>\n",
       "      <th>race</th>\n",
       "      <th>sex</th>\n",
       "      <th>capital-gain</th>\n",
       "      <th>capital-loss</th>\n",
       "      <th>hours-per-week</th>\n",
       "      <th>native-country</th>\n",
       "      <th>classification</th>\n",
       "    </tr>\n",
       "  </thead>\n",
       "  <tbody>\n",
       "    <tr>\n",
       "      <th>0</th>\n",
       "      <td>39</td>\n",
       "      <td>State-gov</td>\n",
       "      <td>77516</td>\n",
       "      <td>Bachelors</td>\n",
       "      <td>13</td>\n",
       "      <td>Never-married</td>\n",
       "      <td>Adm-clerical</td>\n",
       "      <td>Not-in-family</td>\n",
       "      <td>White</td>\n",
       "      <td>Male</td>\n",
       "      <td>2174</td>\n",
       "      <td>0</td>\n",
       "      <td>40</td>\n",
       "      <td>United-States</td>\n",
       "      <td>&lt;=50K</td>\n",
       "    </tr>\n",
       "    <tr>\n",
       "      <th>1</th>\n",
       "      <td>50</td>\n",
       "      <td>Self-emp-not-inc</td>\n",
       "      <td>83311</td>\n",
       "      <td>Bachelors</td>\n",
       "      <td>13</td>\n",
       "      <td>Married-civ-spouse</td>\n",
       "      <td>Exec-managerial</td>\n",
       "      <td>Husband</td>\n",
       "      <td>White</td>\n",
       "      <td>Male</td>\n",
       "      <td>0</td>\n",
       "      <td>0</td>\n",
       "      <td>13</td>\n",
       "      <td>United-States</td>\n",
       "      <td>&lt;=50K</td>\n",
       "    </tr>\n",
       "    <tr>\n",
       "      <th>2</th>\n",
       "      <td>38</td>\n",
       "      <td>Private</td>\n",
       "      <td>215646</td>\n",
       "      <td>HS-grad</td>\n",
       "      <td>9</td>\n",
       "      <td>Divorced</td>\n",
       "      <td>Handlers-cleaners</td>\n",
       "      <td>Not-in-family</td>\n",
       "      <td>White</td>\n",
       "      <td>Male</td>\n",
       "      <td>0</td>\n",
       "      <td>0</td>\n",
       "      <td>40</td>\n",
       "      <td>United-States</td>\n",
       "      <td>&lt;=50K</td>\n",
       "    </tr>\n",
       "    <tr>\n",
       "      <th>3</th>\n",
       "      <td>53</td>\n",
       "      <td>Private</td>\n",
       "      <td>234721</td>\n",
       "      <td>11th</td>\n",
       "      <td>7</td>\n",
       "      <td>Married-civ-spouse</td>\n",
       "      <td>Handlers-cleaners</td>\n",
       "      <td>Husband</td>\n",
       "      <td>Black</td>\n",
       "      <td>Male</td>\n",
       "      <td>0</td>\n",
       "      <td>0</td>\n",
       "      <td>40</td>\n",
       "      <td>United-States</td>\n",
       "      <td>&lt;=50K</td>\n",
       "    </tr>\n",
       "    <tr>\n",
       "      <th>4</th>\n",
       "      <td>28</td>\n",
       "      <td>Private</td>\n",
       "      <td>338409</td>\n",
       "      <td>Bachelors</td>\n",
       "      <td>13</td>\n",
       "      <td>Married-civ-spouse</td>\n",
       "      <td>Prof-specialty</td>\n",
       "      <td>Wife</td>\n",
       "      <td>Black</td>\n",
       "      <td>Female</td>\n",
       "      <td>0</td>\n",
       "      <td>0</td>\n",
       "      <td>40</td>\n",
       "      <td>Cuba</td>\n",
       "      <td>&lt;=50K</td>\n",
       "    </tr>\n",
       "  </tbody>\n",
       "</table>\n",
       "</div>"
      ],
      "text/plain": [
       "   age          workclass  fnlwgt   education  education-num  \\\n",
       "0   39          State-gov   77516   Bachelors             13   \n",
       "1   50   Self-emp-not-inc   83311   Bachelors             13   \n",
       "2   38            Private  215646     HS-grad              9   \n",
       "3   53            Private  234721        11th              7   \n",
       "4   28            Private  338409   Bachelors             13   \n",
       "\n",
       "        marital-status          occupation    relationship    race      sex  \\\n",
       "0        Never-married        Adm-clerical   Not-in-family   White     Male   \n",
       "1   Married-civ-spouse     Exec-managerial         Husband   White     Male   \n",
       "2             Divorced   Handlers-cleaners   Not-in-family   White     Male   \n",
       "3   Married-civ-spouse   Handlers-cleaners         Husband   Black     Male   \n",
       "4   Married-civ-spouse      Prof-specialty            Wife   Black   Female   \n",
       "\n",
       "   capital-gain  capital-loss  hours-per-week  native-country classification  \n",
       "0          2174             0              40   United-States          <=50K  \n",
       "1             0             0              13   United-States          <=50K  \n",
       "2             0             0              40   United-States          <=50K  \n",
       "3             0             0              40   United-States          <=50K  \n",
       "4             0             0              40            Cuba          <=50K  "
      ]
     },
     "execution_count": 3,
     "metadata": {},
     "output_type": "execute_result"
    }
   ],
   "source": [
    "train_data.head()"
   ]
  },
  {
   "cell_type": "code",
   "execution_count": 4,
   "metadata": {
    "scrolled": true
   },
   "outputs": [
    {
     "data": {
      "text/html": [
       "<div>\n",
       "<style scoped>\n",
       "    .dataframe tbody tr th:only-of-type {\n",
       "        vertical-align: middle;\n",
       "    }\n",
       "\n",
       "    .dataframe tbody tr th {\n",
       "        vertical-align: top;\n",
       "    }\n",
       "\n",
       "    .dataframe thead th {\n",
       "        text-align: right;\n",
       "    }\n",
       "</style>\n",
       "<table border=\"1\" class=\"dataframe\">\n",
       "  <thead>\n",
       "    <tr style=\"text-align: right;\">\n",
       "      <th></th>\n",
       "      <th>age</th>\n",
       "      <th>fnlwgt</th>\n",
       "      <th>education-num</th>\n",
       "      <th>capital-gain</th>\n",
       "      <th>capital-loss</th>\n",
       "      <th>hours-per-week</th>\n",
       "    </tr>\n",
       "  </thead>\n",
       "  <tbody>\n",
       "    <tr>\n",
       "      <th>count</th>\n",
       "      <td>32561.000000</td>\n",
       "      <td>3.256100e+04</td>\n",
       "      <td>32561.000000</td>\n",
       "      <td>32561.000000</td>\n",
       "      <td>32561.000000</td>\n",
       "      <td>32561.000000</td>\n",
       "    </tr>\n",
       "    <tr>\n",
       "      <th>mean</th>\n",
       "      <td>38.581647</td>\n",
       "      <td>1.897784e+05</td>\n",
       "      <td>10.080679</td>\n",
       "      <td>1077.648844</td>\n",
       "      <td>87.303830</td>\n",
       "      <td>40.437456</td>\n",
       "    </tr>\n",
       "    <tr>\n",
       "      <th>std</th>\n",
       "      <td>13.640433</td>\n",
       "      <td>1.055500e+05</td>\n",
       "      <td>2.572720</td>\n",
       "      <td>7385.292085</td>\n",
       "      <td>402.960219</td>\n",
       "      <td>12.347429</td>\n",
       "    </tr>\n",
       "    <tr>\n",
       "      <th>min</th>\n",
       "      <td>17.000000</td>\n",
       "      <td>1.228500e+04</td>\n",
       "      <td>1.000000</td>\n",
       "      <td>0.000000</td>\n",
       "      <td>0.000000</td>\n",
       "      <td>1.000000</td>\n",
       "    </tr>\n",
       "    <tr>\n",
       "      <th>25%</th>\n",
       "      <td>28.000000</td>\n",
       "      <td>1.178270e+05</td>\n",
       "      <td>9.000000</td>\n",
       "      <td>0.000000</td>\n",
       "      <td>0.000000</td>\n",
       "      <td>40.000000</td>\n",
       "    </tr>\n",
       "    <tr>\n",
       "      <th>50%</th>\n",
       "      <td>37.000000</td>\n",
       "      <td>1.783560e+05</td>\n",
       "      <td>10.000000</td>\n",
       "      <td>0.000000</td>\n",
       "      <td>0.000000</td>\n",
       "      <td>40.000000</td>\n",
       "    </tr>\n",
       "    <tr>\n",
       "      <th>75%</th>\n",
       "      <td>48.000000</td>\n",
       "      <td>2.370510e+05</td>\n",
       "      <td>12.000000</td>\n",
       "      <td>0.000000</td>\n",
       "      <td>0.000000</td>\n",
       "      <td>45.000000</td>\n",
       "    </tr>\n",
       "    <tr>\n",
       "      <th>max</th>\n",
       "      <td>90.000000</td>\n",
       "      <td>1.484705e+06</td>\n",
       "      <td>16.000000</td>\n",
       "      <td>99999.000000</td>\n",
       "      <td>4356.000000</td>\n",
       "      <td>99.000000</td>\n",
       "    </tr>\n",
       "  </tbody>\n",
       "</table>\n",
       "</div>"
      ],
      "text/plain": [
       "                age        fnlwgt  education-num  capital-gain  capital-loss  \\\n",
       "count  32561.000000  3.256100e+04   32561.000000  32561.000000  32561.000000   \n",
       "mean      38.581647  1.897784e+05      10.080679   1077.648844     87.303830   \n",
       "std       13.640433  1.055500e+05       2.572720   7385.292085    402.960219   \n",
       "min       17.000000  1.228500e+04       1.000000      0.000000      0.000000   \n",
       "25%       28.000000  1.178270e+05       9.000000      0.000000      0.000000   \n",
       "50%       37.000000  1.783560e+05      10.000000      0.000000      0.000000   \n",
       "75%       48.000000  2.370510e+05      12.000000      0.000000      0.000000   \n",
       "max       90.000000  1.484705e+06      16.000000  99999.000000   4356.000000   \n",
       "\n",
       "       hours-per-week  \n",
       "count    32561.000000  \n",
       "mean        40.437456  \n",
       "std         12.347429  \n",
       "min          1.000000  \n",
       "25%         40.000000  \n",
       "50%         40.000000  \n",
       "75%         45.000000  \n",
       "max         99.000000  "
      ]
     },
     "execution_count": 4,
     "metadata": {},
     "output_type": "execute_result"
    }
   ],
   "source": [
    "train_data.describe()"
   ]
  },
  {
   "cell_type": "code",
   "execution_count": 5,
   "metadata": {},
   "outputs": [],
   "source": [
    "#分析数据"
   ]
  },
  {
   "cell_type": "code",
   "execution_count": 742,
   "metadata": {},
   "outputs": [
    {
     "data": {
      "text/plain": [
       " Private             22696\n",
       " Self-emp-not-inc     2541\n",
       " Local-gov            2093\n",
       " ?                    1836\n",
       " State-gov            1298\n",
       " Self-emp-inc         1116\n",
       " Federal-gov           960\n",
       " Without-pay            14\n",
       " Never-worked            7\n",
       "Name: workclass, dtype: int64"
      ]
     },
     "execution_count": 742,
     "metadata": {},
     "output_type": "execute_result"
    }
   ],
   "source": [
    "train_data['workclass'].value_counts() # 计算该特征每个类别的 counts"
   ]
  },
  {
   "cell_type": "code",
   "execution_count": 7,
   "metadata": {},
   "outputs": [
    {
     "data": {
      "text/plain": [
       " Prof-specialty       4140\n",
       " Craft-repair         4099\n",
       " Exec-managerial      4066\n",
       " Adm-clerical         3770\n",
       " Sales                3650\n",
       " Other-service        3295\n",
       " Machine-op-inspct    2002\n",
       " ?                    1843\n",
       " Transport-moving     1597\n",
       " Handlers-cleaners    1370\n",
       " Farming-fishing       994\n",
       " Tech-support          928\n",
       " Protective-serv       649\n",
       " Priv-house-serv       149\n",
       " Armed-Forces            9\n",
       "Name: occupation, dtype: int64"
      ]
     },
     "execution_count": 7,
     "metadata": {},
     "output_type": "execute_result"
    }
   ],
   "source": [
    "train_data['occupation'].value_counts()"
   ]
  },
  {
   "cell_type": "code",
   "execution_count": 8,
   "metadata": {
    "scrolled": true
   },
   "outputs": [
    {
     "data": {
      "text/plain": [
       " United-States                 29170\n",
       " Mexico                          643\n",
       " ?                               583\n",
       " Philippines                     198\n",
       " Germany                         137\n",
       " Canada                          121\n",
       " Puerto-Rico                     114\n",
       " El-Salvador                     106\n",
       " India                           100\n",
       " Cuba                             95\n",
       " England                          90\n",
       " Jamaica                          81\n",
       " South                            80\n",
       " China                            75\n",
       " Italy                            73\n",
       " Dominican-Republic               70\n",
       " Vietnam                          67\n",
       " Guatemala                        64\n",
       " Japan                            62\n",
       " Poland                           60\n",
       " Columbia                         59\n",
       " Taiwan                           51\n",
       " Haiti                            44\n",
       " Iran                             43\n",
       " Portugal                         37\n",
       " Nicaragua                        34\n",
       " Peru                             31\n",
       " Greece                           29\n",
       " France                           29\n",
       " Ecuador                          28\n",
       " Ireland                          24\n",
       " Hong                             20\n",
       " Cambodia                         19\n",
       " Trinadad&Tobago                  19\n",
       " Thailand                         18\n",
       " Laos                             18\n",
       " Yugoslavia                       16\n",
       " Outlying-US(Guam-USVI-etc)       14\n",
       " Hungary                          13\n",
       " Honduras                         13\n",
       " Scotland                         12\n",
       " Holand-Netherlands                1\n",
       "Name: native-country, dtype: int64"
      ]
     },
     "execution_count": 8,
     "metadata": {},
     "output_type": "execute_result"
    }
   ],
   "source": [
    "train_data['native-country'].value_counts()"
   ]
  },
  {
   "cell_type": "code",
   "execution_count": 9,
   "metadata": {},
   "outputs": [
    {
     "name": "stdout",
     "output_type": "stream",
     "text": [
      "36    898\n",
      "31    888\n",
      "34    886\n",
      "23    877\n",
      "35    876\n",
      "33    875\n",
      "28    867\n",
      "30    861\n",
      "37    858\n",
      "25    841\n",
      "27    835\n",
      "32    828\n",
      "38    827\n",
      "39    816\n",
      "29    813\n",
      "41    808\n",
      "24    798\n",
      "40    794\n",
      "26    785\n",
      "42    780\n",
      "43    770\n",
      "22    765\n",
      "20    753\n",
      "46    737\n",
      "45    734\n",
      "44    724\n",
      "21    720\n",
      "19    712\n",
      "47    708\n",
      "50    602\n",
      "     ... \n",
      "60    312\n",
      "61    300\n",
      "62    258\n",
      "63    230\n",
      "64    208\n",
      "65    178\n",
      "67    151\n",
      "66    150\n",
      "68    120\n",
      "69    108\n",
      "70     89\n",
      "71     72\n",
      "72     67\n",
      "73     64\n",
      "74     51\n",
      "76     46\n",
      "75     45\n",
      "90     43\n",
      "77     29\n",
      "78     23\n",
      "80     22\n",
      "79     22\n",
      "81     20\n",
      "82     12\n",
      "84     10\n",
      "83      6\n",
      "85      3\n",
      "88      3\n",
      "87      1\n",
      "86      1\n",
      "Name: age, Length: 73, dtype: int64\n",
      " Private             22696\n",
      " Self-emp-not-inc     2541\n",
      " Local-gov            2093\n",
      " ?                    1836\n",
      " State-gov            1298\n",
      " Self-emp-inc         1116\n",
      " Federal-gov           960\n",
      " Without-pay            14\n",
      " Never-worked            7\n",
      "Name: workclass, dtype: int64\n",
      "164190     13\n",
      "203488     13\n",
      "123011     13\n",
      "113364     12\n",
      "121124     12\n",
      "126675     12\n",
      "148995     12\n",
      "123983     11\n",
      "190290     11\n",
      "126569     11\n",
      "155659     11\n",
      "102308     11\n",
      "120277     11\n",
      "241998     11\n",
      "111483     11\n",
      "120131     11\n",
      "188246     11\n",
      "117963     10\n",
      "174789     10\n",
      "112497     10\n",
      "193882     10\n",
      "125933     10\n",
      "216129     10\n",
      "99185      10\n",
      "125461     10\n",
      "155489     10\n",
      "194630     10\n",
      "125892     10\n",
      "119793     10\n",
      "177675     10\n",
      "           ..\n",
      "118352      1\n",
      "239415      1\n",
      "288341      1\n",
      "34393       1\n",
      "110172      1\n",
      "188982      1\n",
      "67794       1\n",
      "343646      1\n",
      "210527      1\n",
      "269246      1\n",
      "349795      1\n",
      "63079       1\n",
      "142924      1\n",
      "1268339     1\n",
      "542265      1\n",
      "222789      1\n",
      "54851       1\n",
      "312897      1\n",
      "58447       1\n",
      "48702       1\n",
      "378045      1\n",
      "34361       1\n",
      "357943      1\n",
      "65078       1\n",
      "68318       1\n",
      "284211      1\n",
      "312881      1\n",
      "177711      1\n",
      "179758      1\n",
      "229376      1\n",
      "Name: fnlwgt, Length: 21648, dtype: int64\n",
      " HS-grad         10501\n",
      " Some-college     7291\n",
      " Bachelors        5355\n",
      " Masters          1723\n",
      " Assoc-voc        1382\n",
      " 11th             1175\n",
      " Assoc-acdm       1067\n",
      " 10th              933\n",
      " 7th-8th           646\n",
      " Prof-school       576\n",
      " 9th               514\n",
      " 12th              433\n",
      " Doctorate         413\n",
      " 5th-6th           333\n",
      " 1st-4th           168\n",
      " Preschool          51\n",
      "Name: education, dtype: int64\n",
      "9     10501\n",
      "10     7291\n",
      "13     5355\n",
      "14     1723\n",
      "11     1382\n",
      "7      1175\n",
      "12     1067\n",
      "6       933\n",
      "4       646\n",
      "15      576\n",
      "5       514\n",
      "8       433\n",
      "16      413\n",
      "3       333\n",
      "2       168\n",
      "1        51\n",
      "Name: education-num, dtype: int64\n",
      " Married-civ-spouse       14976\n",
      " Never-married            10683\n",
      " Divorced                  4443\n",
      " Separated                 1025\n",
      " Widowed                    993\n",
      " Married-spouse-absent      418\n",
      " Married-AF-spouse           23\n",
      "Name: marital-status, dtype: int64\n",
      " Prof-specialty       4140\n",
      " Craft-repair         4099\n",
      " Exec-managerial      4066\n",
      " Adm-clerical         3770\n",
      " Sales                3650\n",
      " Other-service        3295\n",
      " Machine-op-inspct    2002\n",
      " ?                    1843\n",
      " Transport-moving     1597\n",
      " Handlers-cleaners    1370\n",
      " Farming-fishing       994\n",
      " Tech-support          928\n",
      " Protective-serv       649\n",
      " Priv-house-serv       149\n",
      " Armed-Forces            9\n",
      "Name: occupation, dtype: int64\n",
      " Husband           13193\n",
      " Not-in-family      8305\n",
      " Own-child          5068\n",
      " Unmarried          3446\n",
      " Wife               1568\n",
      " Other-relative      981\n",
      "Name: relationship, dtype: int64\n",
      " White                 27816\n",
      " Black                  3124\n",
      " Asian-Pac-Islander     1039\n",
      " Amer-Indian-Eskimo      311\n",
      " Other                   271\n",
      "Name: race, dtype: int64\n",
      " Male      21790\n",
      " Female    10771\n",
      "Name: sex, dtype: int64\n",
      "0        29849\n",
      "15024      347\n",
      "7688       284\n",
      "7298       246\n",
      "99999      159\n",
      "5178        97\n",
      "3103        97\n",
      "4386        70\n",
      "5013        69\n",
      "8614        55\n",
      "3325        53\n",
      "2174        48\n",
      "10520       43\n",
      "4064        42\n",
      "4650        41\n",
      "14084       41\n",
      "20051       37\n",
      "3137        37\n",
      "27828       34\n",
      "594         34\n",
      "3908        32\n",
      "2829        31\n",
      "13550       27\n",
      "6849        27\n",
      "14344       26\n",
      "1055        25\n",
      "2885        24\n",
      "3411        24\n",
      "4787        23\n",
      "2176        23\n",
      "         ...  \n",
      "9562         4\n",
      "1086         4\n",
      "25124        4\n",
      "1424         3\n",
      "2961         3\n",
      "7896         3\n",
      "4687         3\n",
      "2936         3\n",
      "1173         3\n",
      "5721         3\n",
      "2009         3\n",
      "6360         3\n",
      "41310        2\n",
      "6723         2\n",
      "3456         2\n",
      "2993         2\n",
      "401          2\n",
      "11678        2\n",
      "2062         2\n",
      "18481        2\n",
      "7978         1\n",
      "1639         1\n",
      "2538         1\n",
      "2387         1\n",
      "5060         1\n",
      "4931         1\n",
      "1455         1\n",
      "6097         1\n",
      "22040        1\n",
      "1111         1\n",
      "Name: capital-gain, Length: 119, dtype: int64\n",
      "0       31042\n",
      "1902      202\n",
      "1977      168\n",
      "1887      159\n",
      "1848       51\n",
      "1485       51\n",
      "2415       49\n",
      "1602       47\n",
      "1740       42\n",
      "1590       40\n",
      "1876       39\n",
      "1672       34\n",
      "1564       25\n",
      "2258       25\n",
      "1669       24\n",
      "1741       24\n",
      "2001       24\n",
      "1980       23\n",
      "1719       22\n",
      "2002       21\n",
      "2051       21\n",
      "1408       21\n",
      "1579       20\n",
      "2377       20\n",
      "1721       18\n",
      "1504       18\n",
      "1974       18\n",
      "2339       17\n",
      "2179       15\n",
      "1628       15\n",
      "        ...  \n",
      "323         3\n",
      "4356        3\n",
      "2267        3\n",
      "3683        2\n",
      "1755        2\n",
      "2352        2\n",
      "1648        2\n",
      "1138        2\n",
      "810         2\n",
      "1735        2\n",
      "2238        2\n",
      "2754        2\n",
      "3004        2\n",
      "3900        2\n",
      "974         2\n",
      "2149        2\n",
      "1816        2\n",
      "3770        2\n",
      "2080        1\n",
      "2489        1\n",
      "2282        1\n",
      "2163        1\n",
      "155         1\n",
      "2467        1\n",
      "1844        1\n",
      "1411        1\n",
      "1539        1\n",
      "2472        1\n",
      "1944        1\n",
      "2201        1\n",
      "Name: capital-loss, Length: 92, dtype: int64\n",
      "40    15217\n",
      "50     2819\n",
      "45     1824\n",
      "60     1475\n",
      "35     1297\n",
      "20     1224\n",
      "30     1149\n",
      "55      694\n",
      "25      674\n",
      "48      517\n",
      "38      476\n",
      "15      404\n",
      "70      291\n",
      "10      278\n",
      "32      266\n",
      "24      252\n",
      "65      244\n",
      "36      220\n",
      "42      219\n",
      "44      212\n",
      "16      205\n",
      "12      173\n",
      "43      151\n",
      "37      149\n",
      "8       145\n",
      "52      138\n",
      "80      133\n",
      "56       97\n",
      "28       86\n",
      "99       85\n",
      "      ...  \n",
      "19       14\n",
      "64       14\n",
      "51       13\n",
      "85       13\n",
      "68       12\n",
      "98       11\n",
      "11       11\n",
      "63       10\n",
      "78        8\n",
      "29        7\n",
      "77        6\n",
      "59        5\n",
      "31        5\n",
      "96        5\n",
      "67        4\n",
      "91        3\n",
      "76        3\n",
      "81        3\n",
      "73        2\n",
      "89        2\n",
      "97        2\n",
      "88        2\n",
      "86        2\n",
      "61        2\n",
      "95        2\n",
      "92        1\n",
      "94        1\n",
      "87        1\n",
      "74        1\n",
      "82        1\n",
      "Name: hours-per-week, Length: 94, dtype: int64\n",
      " United-States                 29170\n",
      " Mexico                          643\n",
      " ?                               583\n",
      " Philippines                     198\n",
      " Germany                         137\n",
      " Canada                          121\n",
      " Puerto-Rico                     114\n",
      " El-Salvador                     106\n",
      " India                           100\n",
      " Cuba                             95\n",
      " England                          90\n",
      " Jamaica                          81\n",
      " South                            80\n",
      " China                            75\n",
      " Italy                            73\n",
      " Dominican-Republic               70\n",
      " Vietnam                          67\n",
      " Guatemala                        64\n",
      " Japan                            62\n",
      " Poland                           60\n",
      " Columbia                         59\n",
      " Taiwan                           51\n",
      " Haiti                            44\n",
      " Iran                             43\n",
      " Portugal                         37\n",
      " Nicaragua                        34\n",
      " Peru                             31\n",
      " Greece                           29\n",
      " France                           29\n",
      " Ecuador                          28\n",
      " Ireland                          24\n",
      " Hong                             20\n",
      " Cambodia                         19\n",
      " Trinadad&Tobago                  19\n",
      " Thailand                         18\n",
      " Laos                             18\n",
      " Yugoslavia                       16\n",
      " Outlying-US(Guam-USVI-etc)       14\n",
      " Hungary                          13\n",
      " Honduras                         13\n",
      " Scotland                         12\n",
      " Holand-Netherlands                1\n",
      "Name: native-country, dtype: int64\n",
      " <=50K    24720\n",
      " >50K      7841\n",
      "Name: classification, dtype: int64\n"
     ]
    }
   ],
   "source": [
    "#计算每一个标签每个类别的 counts\n",
    "names=['age','workclass','fnlwgt','education','education-num',\n",
    "                                'marital-status','occupation','relationship','race','sex',\n",
    "                                'capital-gain','capital-loss',\n",
    "                                'hours-per-week','native-country','classification']\n",
    "for i in names:\n",
    "    print(train_data[i].value_counts())"
   ]
  },
  {
   "cell_type": "code",
   "execution_count": 10,
   "metadata": {},
   "outputs": [
    {
     "name": "stdout",
     "output_type": "stream",
     "text": [
      "[' State-gov' ' Self-emp-not-inc' ' Private' ' Federal-gov' ' Local-gov'\n",
      " ' ?' ' Self-emp-inc' ' Without-pay' ' Never-worked']\n",
      "[' Adm-clerical' ' Exec-managerial' ' Handlers-cleaners' ' Prof-specialty'\n",
      " ' Other-service' ' Sales' ' Craft-repair' ' Transport-moving'\n",
      " ' Farming-fishing' ' Machine-op-inspct' ' Tech-support' ' ?'\n",
      " ' Protective-serv' ' Armed-Forces' ' Priv-house-serv']\n",
      "[' United-States' ' Cuba' ' Jamaica' ' India' ' ?' ' Mexico' ' South'\n",
      " ' Puerto-Rico' ' Honduras' ' England' ' Canada' ' Germany' ' Iran'\n",
      " ' Philippines' ' Italy' ' Poland' ' Columbia' ' Cambodia' ' Thailand'\n",
      " ' Ecuador' ' Laos' ' Taiwan' ' Haiti' ' Portugal' ' Dominican-Republic'\n",
      " ' El-Salvador' ' France' ' Guatemala' ' China' ' Japan' ' Yugoslavia'\n",
      " ' Peru' ' Outlying-US(Guam-USVI-etc)' ' Scotland' ' Trinadad&Tobago'\n",
      " ' Greece' ' Nicaragua' ' Vietnam' ' Hong' ' Ireland' ' Hungary'\n",
      " ' Holand-Netherlands']\n"
     ]
    }
   ],
   "source": [
    "#可视化都有那些类别\n",
    "print(train_data[\"workclass\"].unique())\n",
    "print(train_data[\"occupation\"].unique())\n",
    "print(train_data[\"native-country\"].unique())"
   ]
  },
  {
   "cell_type": "code",
   "execution_count": 11,
   "metadata": {},
   "outputs": [],
   "source": [
    "# 数据填充：把 ？ 以该特征的众数填充\n",
    "train_data.loc[train_data[\"workclass\"] == ' ?',\"workclass\"] = ' Private'\n",
    "train_data.loc[train_data[\"occupation\"] == ' ?',\"occupation\"] = ' Prof-specialty'\n",
    "train_data.loc[train_data[\"native-country\"] == ' ?',\"native-country\"] = ' United-States'"
   ]
  },
  {
   "cell_type": "code",
   "execution_count": 12,
   "metadata": {},
   "outputs": [
    {
     "name": "stdout",
     "output_type": "stream",
     "text": [
      "[' State-gov' ' Self-emp-not-inc' ' Private' ' Federal-gov' ' Local-gov'\n",
      " ' Self-emp-inc' ' Without-pay' ' Never-worked']\n",
      "[' Adm-clerical' ' Exec-managerial' ' Handlers-cleaners' ' Prof-specialty'\n",
      " ' Other-service' ' Sales' ' Craft-repair' ' Transport-moving'\n",
      " ' Farming-fishing' ' Machine-op-inspct' ' Tech-support'\n",
      " ' Protective-serv' ' Armed-Forces' ' Priv-house-serv']\n",
      "[' United-States' ' Cuba' ' Jamaica' ' India' ' Mexico' ' South'\n",
      " ' Puerto-Rico' ' Honduras' ' England' ' Canada' ' Germany' ' Iran'\n",
      " ' Philippines' ' Italy' ' Poland' ' Columbia' ' Cambodia' ' Thailand'\n",
      " ' Ecuador' ' Laos' ' Taiwan' ' Haiti' ' Portugal' ' Dominican-Republic'\n",
      " ' El-Salvador' ' France' ' Guatemala' ' China' ' Japan' ' Yugoslavia'\n",
      " ' Peru' ' Outlying-US(Guam-USVI-etc)' ' Scotland' ' Trinadad&Tobago'\n",
      " ' Greece' ' Nicaragua' ' Vietnam' ' Hong' ' Ireland' ' Hungary'\n",
      " ' Holand-Netherlands']\n"
     ]
    }
   ],
   "source": [
    "#验证 ？ 是否已被全填充\n",
    "print(train_data[\"workclass\"].unique())\n",
    "print(train_data[\"occupation\"].unique())\n",
    "print(train_data[\"native-country\"].unique())"
   ]
  },
  {
   "cell_type": "code",
   "execution_count": 13,
   "metadata": {},
   "outputs": [
    {
     "name": "stdout",
     "output_type": "stream",
     "text": [
      " Private\n",
      " Self-emp-not-inc\n",
      " Self-emp-inc\n",
      " Federal-gov\n",
      " Local-gov\n",
      " State-gov\n",
      " Without-pay\n",
      " Never-worked\n",
      "[5 1 0 3 4 2 6 7]\n"
     ]
    }
   ],
   "source": [
    "# 数据转换： 把字符串转换为 int \n",
    "Workclass = [' Private',' Self-emp-not-inc',' Self-emp-inc',' Federal-gov',' Local-gov',' State-gov',\n",
    "            ' Without-pay', ' Never-worked']\n",
    "j = 0\n",
    "for i in Workclass:\n",
    "    print(i)\n",
    "    train_data.loc[train_data[\"workclass\"] == i, \"workclass\"] = j\n",
    "    j += 1\n",
    "print(train_data[\"workclass\"].unique())"
   ]
  },
  {
   "cell_type": "code",
   "execution_count": 14,
   "metadata": {},
   "outputs": [
    {
     "name": "stdout",
     "output_type": "stream",
     "text": [
      "[' Bachelors' ' HS-grad' ' 11th' ' Masters' ' 9th' ' Some-college'\n",
      " ' Assoc-acdm' ' Assoc-voc' ' 7th-8th' ' Doctorate' ' Prof-school'\n",
      " ' 5th-6th' ' 10th' ' 1st-4th' ' Preschool' ' 12th']\n",
      "\n",
      "[ 0  3  2 10  7  1  5  6  8 13  4 14 12 11 15  9]\n"
     ]
    }
   ],
   "source": [
    "print(train_data[\"education\"].unique())\n",
    "Education = [' Bachelors',' Some-college',' 11th',' HS-grad',' Prof-school',' Assoc-acdm',' Assoc-voc',\n",
    "             ' 9th',' 7th-8th',' 12th',' Masters',' 1st-4th',' 10th',' Doctorate',' 5th-6th',' Preschool']\n",
    "j = 0\n",
    "for i in Education:\n",
    "    train_data.loc[train_data[\"education\"] == i, \"education\"] = j\n",
    "    j += 1\n",
    "print(train_data[\"education\"].unique())"
   ]
  },
  {
   "cell_type": "code",
   "execution_count": 15,
   "metadata": {},
   "outputs": [
    {
     "name": "stdout",
     "output_type": "stream",
     "text": [
      "[' Never-married' ' Married-civ-spouse' ' Divorced'\n",
      " ' Married-spouse-absent' ' Separated' ' Married-AF-spouse' ' Widowed']\n",
      "[2 0 1 5 3 6 4]\n"
     ]
    }
   ],
   "source": [
    "print(train_data[\"marital-status\"].unique())\n",
    "Marital = [' Married-civ-spouse',' Divorced',' Never-married',' Separated',\n",
    "            ' Widowed',' Married-spouse-absent',' Married-AF-spouse']\n",
    "j = 0\n",
    "for i in Marital:\n",
    "    train_data.loc[train_data[\"marital-status\"] == i, \"marital-status\"] = j\n",
    "    j += 1\n",
    "print(train_data[\"marital-status\"].unique())"
   ]
  },
  {
   "cell_type": "code",
   "execution_count": 16,
   "metadata": {},
   "outputs": [
    {
     "name": "stdout",
     "output_type": "stream",
     "text": [
      "[' Adm-clerical' ' Exec-managerial' ' Handlers-cleaners' ' Prof-specialty'\n",
      " ' Other-service' ' Sales' ' Craft-repair' ' Transport-moving'\n",
      " ' Farming-fishing' ' Machine-op-inspct' ' Tech-support'\n",
      " ' Protective-serv' ' Armed-Forces' ' Priv-house-serv']\n",
      "[ 8  4  6  5  2  3  1 10  9  7  0 12 13 11]\n"
     ]
    }
   ],
   "source": [
    "print(train_data[\"occupation\"].unique())\n",
    "Occupation = [' Tech-support',' Craft-repair',' Other-service',' Sales',' Exec-managerial', \n",
    "             ' Prof-specialty',' Handlers-cleaners',' Machine-op-inspct', \n",
    "             ' Adm-clerical',' Farming-fishing', \n",
    "             ' Transport-moving',' Priv-house-serv',' Protective-serv',' Armed-Forces']\n",
    "j = 0\n",
    "for i in Occupation:\n",
    "    train_data.loc[train_data[\"occupation\"] == i, \"occupation\"] = j\n",
    "    j += 1\n",
    "print(train_data[\"occupation\"].unique())"
   ]
  },
  {
   "cell_type": "code",
   "execution_count": 17,
   "metadata": {},
   "outputs": [
    {
     "name": "stdout",
     "output_type": "stream",
     "text": [
      "[' Not-in-family' ' Husband' ' Wife' ' Own-child' ' Unmarried'\n",
      " ' Other-relative']\n",
      "[3 2 0 1 5 4]\n"
     ]
    }
   ],
   "source": [
    "print(train_data[\"relationship\"].unique())\n",
    "Relationship = [' Wife',' Own-child',' Husband',' Not-in-family',' Other-relative',' Unmarried']\n",
    "j = 0\n",
    "for i in Relationship:\n",
    "    train_data.loc[train_data[\"relationship\"] == i, \"relationship\"] = j\n",
    "    j += 1\n",
    "print(train_data[\"relationship\"].unique())"
   ]
  },
  {
   "cell_type": "code",
   "execution_count": 18,
   "metadata": {},
   "outputs": [
    {
     "name": "stdout",
     "output_type": "stream",
     "text": [
      "[' White' ' Black' ' Asian-Pac-Islander' ' Amer-Indian-Eskimo' ' Other']\n",
      "[0 4 1 2 3]\n"
     ]
    }
   ],
   "source": [
    "print(train_data[\"race\"].unique())\n",
    "Race = [' White',' Asian-Pac-Islander',' Amer-Indian-Eskimo',' Other',' Black']\n",
    "j = 0\n",
    "for i in Race:\n",
    "    train_data.loc[train_data[\"race\"] == i, \"race\"] = j\n",
    "    j += 1\n",
    "print(train_data[\"race\"].unique())"
   ]
  },
  {
   "cell_type": "code",
   "execution_count": 19,
   "metadata": {},
   "outputs": [
    {
     "name": "stdout",
     "output_type": "stream",
     "text": [
      "[' Male' ' Female']\n",
      "[1 0]\n"
     ]
    }
   ],
   "source": [
    "print(train_data[\"sex\"].unique())\n",
    "Sex = [' Female',' Male']\n",
    "j = 0\n",
    "for i in Sex:\n",
    "    train_data.loc[train_data[\"sex\"] == i, \"sex\"] = j\n",
    "    j += 1\n",
    "print(train_data[\"sex\"].unique())"
   ]
  },
  {
   "cell_type": "code",
   "execution_count": 20,
   "metadata": {},
   "outputs": [
    {
     "name": "stdout",
     "output_type": "stream",
     "text": [
      "[' United-States' ' Cuba' ' Jamaica' ' India' ' Mexico' ' South'\n",
      " ' Puerto-Rico' ' Honduras' ' England' ' Canada' ' Germany' ' Iran'\n",
      " ' Philippines' ' Italy' ' Poland' ' Columbia' ' Cambodia' ' Thailand'\n",
      " ' Ecuador' ' Laos' ' Taiwan' ' Haiti' ' Portugal' ' Dominican-Republic'\n",
      " ' El-Salvador' ' France' ' Guatemala' ' China' ' Japan' ' Yugoslavia'\n",
      " ' Peru' ' Outlying-US(Guam-USVI-etc)' ' Scotland' ' Trinadad&Tobago'\n",
      " ' Greece' ' Nicaragua' ' Vietnam' ' Hong' ' Ireland' ' Hungary'\n",
      " ' Holand-Netherlands']\n",
      "[ 0 12 18  7 20 10  3 14  2  4  5 13 15 16 17 29  1 34 26 25 27 28 21 24\n",
      " 36 23 31 11  8 35 38  6 33 37  9 32 19 39 22 30 40]\n"
     ]
    }
   ],
   "source": [
    "print(train_data[\"native-country\"].unique())\n",
    "Native = [' United-States',' Cambodia',' England',' Puerto-Rico',' Canada',' Germany', \n",
    "          ' Outlying-US(Guam-USVI-etc)',' India',' Japan',' Greece',' South',\n",
    "          ' China',' Cuba', ' Iran', ' Honduras', ' Philippines', ' Italy', ' Poland',\n",
    "          ' Jamaica', ' Vietnam', ' Mexico', ' Portugal', ' Ireland', ' France', \n",
    "          ' Dominican-Republic', ' Laos', ' Ecuador', ' Taiwan', ' Haiti', \n",
    "          ' Columbia', ' Hungary', ' Guatemala', ' Nicaragua', ' Scotland', \n",
    "          ' Thailand', ' Yugoslavia', ' El-Salvador', ' Trinadad&Tobago', ' Peru', \n",
    "          ' Hong', ' Holand-Netherlands']\n",
    "j = 0\n",
    "for i in Native:\n",
    "    train_data.loc[train_data[\"native-country\"] == i, \"native-country\"] = j\n",
    "    j += 1\n",
    "print(train_data[\"native-country\"].unique())"
   ]
  },
  {
   "cell_type": "code",
   "execution_count": 21,
   "metadata": {},
   "outputs": [
    {
     "name": "stdout",
     "output_type": "stream",
     "text": [
      "[' <=50K' ' >50K']\n",
      "[1 0]\n"
     ]
    }
   ],
   "source": [
    "print(train_data[\"classification\"].unique())\n",
    "Classification = [\" >50K\", \" <=50K\"]\n",
    "j = 0\n",
    "for i in Classification:\n",
    "    train_data.loc[train_data[\"classification\"] == i, \"classification\"] = j\n",
    "    j += 1\n",
    "print(train_data[\"classification\"].unique())"
   ]
  },
  {
   "cell_type": "code",
   "execution_count": 22,
   "metadata": {},
   "outputs": [
    {
     "name": "stderr",
     "output_type": "stream",
     "text": [
      "/home/mzl/anaconda3/lib/python3.6/site-packages/sklearn/cross_validation.py:41: DeprecationWarning: This module was deprecated in version 0.18 in favor of the model_selection module into which all the refactored classes and functions are moved. Also note that the interface of the new CV iterators are different from that of this module. This module will be removed in 0.20.\n",
      "  \"This module will be removed in 0.20.\", DeprecationWarning)\n"
     ]
    }
   ],
   "source": [
    "from sklearn.linear_model import LinearRegression\n",
    "from sklearn.cross_validation import KFold"
   ]
  },
  {
   "cell_type": "code",
   "execution_count": 23,
   "metadata": {},
   "outputs": [],
   "source": [
    "predictors =['age','workclass','fnlwgt','education','education-num',\n",
    "                                'marital-status','occupation','relationship','race','sex',\n",
    "                                'capital-gain','capital-loss',\n",
    "                                'hours-per-week','native-country']\n",
    "\n",
    "alg = LinearRegression()\n",
    "\n",
    "kf = KFold(train_data.shape[0], n_folds = 3, random_state = 1)\n",
    "\n",
    "predictions = []\n",
    "#交叉验证\n",
    "for train, test in kf:\n",
    "    train_predictors = (train_data[predictors].iloc[train,:])\n",
    "    train_target = train_data[\"classification\"].iloc[train]\n",
    "    alg.fit(train_predictors, train_target)\n",
    "    \n",
    "    test_predictions = alg.predict(train_data[predictors].iloc[test,:])\n",
    "    predictions.append(test_predictions)"
   ]
  },
  {
   "cell_type": "code",
   "execution_count": 24,
   "metadata": {},
   "outputs": [],
   "source": [
    "import numpy as np"
   ]
  },
  {
   "cell_type": "code",
   "execution_count": 25,
   "metadata": {},
   "outputs": [
    {
     "name": "stdout",
     "output_type": "stream",
     "text": [
      "0.7589754614416019\n"
     ]
    }
   ],
   "source": [
    "prdictions = np.concatenate(predictions, axis = 0)\n",
    "prdictions[prdictions > .1] = 1\n",
    "prdictions[prdictions <= .1] = 0\n",
    "accuracy = sum(prdictions[prdictions == train_data[\"classification\"]]) / len(prdictions)\n",
    "print(accuracy)"
   ]
  },
  {
   "cell_type": "code",
   "execution_count": 26,
   "metadata": {},
   "outputs": [],
   "source": [
    "from sklearn import cross_validation\n",
    "from sklearn.linear_model import LogisticRegression"
   ]
  },
  {
   "cell_type": "code",
   "execution_count": 614,
   "metadata": {},
   "outputs": [
    {
     "name": "stdout",
     "output_type": "stream",
     "text": [
      "0.7978256207298123\n"
     ]
    }
   ],
   "source": [
    "alg = LogisticRegression(random_state = 1)\n",
    "#交叉验证\n",
    "scores = cross_validation.cross_val_score(alg, train_data[predictors], train_data[\"classification\"], cv = 5)\n",
    "print(scores.mean())"
   ]
  },
  {
   "cell_type": "code",
   "execution_count": 28,
   "metadata": {},
   "outputs": [
    {
     "data": {
      "text/plain": [
       "LogisticRegression(C=1.0, class_weight=None, dual=False, fit_intercept=True,\n",
       "          intercept_scaling=1, max_iter=100, multi_class='ovr', n_jobs=1,\n",
       "          penalty='l2', random_state=1, solver='liblinear', tol=0.0001,\n",
       "          verbose=0, warm_start=False)"
      ]
     },
     "execution_count": 28,
     "metadata": {},
     "output_type": "execute_result"
    }
   ],
   "source": [
    "alg.fit(train_data[predictors], train_data[\"classification\"])"
   ]
  },
  {
   "cell_type": "code",
   "execution_count": 29,
   "metadata": {},
   "outputs": [],
   "source": [
    "test_data = pd.read_csv(\"./algo_question/adult.test\",names=['age','workclass','fnlwgt','education','education-num',\n",
    "                                'marital-status','occupation','relationship','race','sex',\n",
    "                                'capital-gain','capital-loss',\n",
    "                                'hours-per-week','native-country','classification'])"
   ]
  },
  {
   "cell_type": "code",
   "execution_count": 30,
   "metadata": {},
   "outputs": [
    {
     "data": {
      "text/plain": [
       " Private             11210\n",
       " Self-emp-not-inc     1321\n",
       " Local-gov            1043\n",
       " ?                     963\n",
       " State-gov             683\n",
       " Self-emp-inc          579\n",
       " Federal-gov           472\n",
       " Without-pay             7\n",
       " Never-worked            3\n",
       "Name: workclass, dtype: int64"
      ]
     },
     "execution_count": 30,
     "metadata": {},
     "output_type": "execute_result"
    }
   ],
   "source": [
    "test_data['workclass'].value_counts() #计算每个标签的 counts"
   ]
  },
  {
   "cell_type": "code",
   "execution_count": 31,
   "metadata": {},
   "outputs": [
    {
     "data": {
      "text/plain": [
       " Prof-specialty       2032\n",
       " Exec-managerial      2020\n",
       " Craft-repair         2013\n",
       " Sales                1854\n",
       " Adm-clerical         1841\n",
       " Other-service        1628\n",
       " Machine-op-inspct    1020\n",
       " ?                     966\n",
       " Transport-moving      758\n",
       " Handlers-cleaners     702\n",
       " Tech-support          518\n",
       " Farming-fishing       496\n",
       " Protective-serv       334\n",
       " Priv-house-serv        93\n",
       " Armed-Forces            6\n",
       "Name: occupation, dtype: int64"
      ]
     },
     "execution_count": 31,
     "metadata": {},
     "output_type": "execute_result"
    }
   ],
   "source": [
    "test_data['occupation'].value_counts()"
   ]
  },
  {
   "cell_type": "code",
   "execution_count": 32,
   "metadata": {},
   "outputs": [
    {
     "data": {
      "text/plain": [
       "0     29753\n",
       "20      643\n",
       "15      198\n",
       "5       137\n",
       "4       121\n",
       "3       114\n",
       "36      106\n",
       "7       100\n",
       "12       95\n",
       "2        90\n",
       "18       81\n",
       "10       80\n",
       "11       75\n",
       "16       73\n",
       "24       70\n",
       "19       67\n",
       "31       64\n",
       "8        62\n",
       "17       60\n",
       "29       59\n",
       "27       51\n",
       "28       44\n",
       "13       43\n",
       "21       37\n",
       "32       34\n",
       "38       31\n",
       "9        29\n",
       "23       29\n",
       "26       28\n",
       "22       24\n",
       "39       20\n",
       "37       19\n",
       "1        19\n",
       "25       18\n",
       "34       18\n",
       "35       16\n",
       "6        14\n",
       "14       13\n",
       "30       13\n",
       "33       12\n",
       "40        1\n",
       "Name: native-country, dtype: int64"
      ]
     },
     "execution_count": 32,
     "metadata": {},
     "output_type": "execute_result"
    }
   ],
   "source": [
    "train_data['native-country'].value_counts()"
   ]
  },
  {
   "cell_type": "code",
   "execution_count": 33,
   "metadata": {},
   "outputs": [
    {
     "name": "stdout",
     "output_type": "stream",
     "text": [
      "[' Private' ' Local-gov' ' ?' ' Self-emp-not-inc' ' Federal-gov'\n",
      " ' State-gov' ' Self-emp-inc' ' Without-pay' ' Never-worked']\n",
      "[' Machine-op-inspct' ' Farming-fishing' ' Protective-serv' ' ?'\n",
      " ' Other-service' ' Prof-specialty' ' Craft-repair' ' Adm-clerical'\n",
      " ' Exec-managerial' ' Tech-support' ' Sales' ' Priv-house-serv'\n",
      " ' Transport-moving' ' Handlers-cleaners' ' Armed-Forces']\n",
      "[' United-States' ' ?' ' Peru' ' Guatemala' ' Mexico'\n",
      " ' Dominican-Republic' ' Ireland' ' Germany' ' Philippines' ' Thailand'\n",
      " ' Haiti' ' El-Salvador' ' Puerto-Rico' ' Vietnam' ' South' ' Columbia'\n",
      " ' Japan' ' India' ' Cambodia' ' Poland' ' Laos' ' England' ' Cuba'\n",
      " ' Taiwan' ' Italy' ' Canada' ' Portugal' ' China' ' Nicaragua'\n",
      " ' Honduras' ' Iran' ' Scotland' ' Jamaica' ' Ecuador' ' Yugoslavia'\n",
      " ' Hungary' ' Hong' ' Greece' ' Trinadad&Tobago'\n",
      " ' Outlying-US(Guam-USVI-etc)' ' France']\n"
     ]
    }
   ],
   "source": [
    "#可视化所有类别\n",
    "print(test_data[\"workclass\"].unique())\n",
    "print(test_data[\"occupation\"].unique())\n",
    "print(test_data[\"native-country\"].unique())"
   ]
  },
  {
   "cell_type": "code",
   "execution_count": 34,
   "metadata": {},
   "outputs": [],
   "source": [
    "#数据填充：把 ？以众数填充\n",
    "test_data.loc[test_data[\"workclass\"] == ' ?',\"workclass\"] = ' Private' \n",
    "test_data.loc[test_data[\"occupation\"] == ' ?',\"occupation\"] = ' Prof-specialty'\n",
    "test_data.loc[test_data[\"native-country\"] == ' ?',\"native-country\"] = ' United-States'"
   ]
  },
  {
   "cell_type": "code",
   "execution_count": 35,
   "metadata": {},
   "outputs": [
    {
     "name": "stdout",
     "output_type": "stream",
     "text": [
      "[' Private' ' Local-gov' ' Self-emp-not-inc' ' Federal-gov' ' State-gov'\n",
      " ' Self-emp-inc' ' Without-pay' ' Never-worked']\n",
      "[0 4 1 3 5 2 6 7]\n"
     ]
    }
   ],
   "source": [
    "#数据转换：把字符串型转换为 int \n",
    "print(test_data[\"workclass\"].unique())\n",
    "Workclass = [' Private',' Self-emp-not-inc',' Self-emp-inc',' Federal-gov',' Local-gov',' State-gov',\n",
    "            ' Without-pay', ' Never-worked']\n",
    "j = 0\n",
    "for i in Workclass:\n",
    "    test_data.loc[test_data[\"workclass\"] == i, \"workclass\"] = j\n",
    "    j += 1\n",
    "print(test_data[\"workclass\"].unique())"
   ]
  },
  {
   "cell_type": "code",
   "execution_count": 36,
   "metadata": {},
   "outputs": [
    {
     "name": "stdout",
     "output_type": "stream",
     "text": [
      "[' 11th' ' HS-grad' ' Assoc-acdm' ' Some-college' ' 10th' ' Prof-school'\n",
      " ' 7th-8th' ' Bachelors' ' Masters' ' Doctorate' ' 5th-6th' ' Assoc-voc'\n",
      " ' 9th' ' 12th' ' 1st-4th' ' Preschool']\n",
      "[ 2  3  5  1 12  4  8  0 10 13 14  6  7  9 11 15]\n"
     ]
    }
   ],
   "source": [
    "print(test_data[\"education\"].unique())\n",
    "Education = [' Bachelors',' Some-college',' 11th',' HS-grad',' Prof-school',' Assoc-acdm',' Assoc-voc',\n",
    "             ' 9th',' 7th-8th',' 12th',' Masters',' 1st-4th',' 10th',' Doctorate',' 5th-6th',' Preschool']\n",
    "j = 0\n",
    "for i in Education:\n",
    "    test_data.loc[test_data[\"education\"] == i, \"education\"] = j\n",
    "    j += 1\n",
    "print(test_data[\"education\"].unique())"
   ]
  },
  {
   "cell_type": "code",
   "execution_count": 37,
   "metadata": {},
   "outputs": [
    {
     "name": "stdout",
     "output_type": "stream",
     "text": [
      "[' Never-married' ' Married-civ-spouse' ' Widowed' ' Divorced'\n",
      " ' Separated' ' Married-spouse-absent' ' Married-AF-spouse']\n",
      "[2 0 4 1 3 5 6]\n"
     ]
    }
   ],
   "source": [
    "print(test_data[\"marital-status\"].unique())\n",
    "Marital = [' Married-civ-spouse',' Divorced',' Never-married',' Separated',\n",
    "            ' Widowed',' Married-spouse-absent',' Married-AF-spouse']\n",
    "j = 0\n",
    "for i in Marital:\n",
    "    test_data.loc[test_data[\"marital-status\"] == i, \"marital-status\"] = j\n",
    "    j += 1\n",
    "print(test_data[\"marital-status\"].unique())"
   ]
  },
  {
   "cell_type": "code",
   "execution_count": 38,
   "metadata": {},
   "outputs": [
    {
     "name": "stdout",
     "output_type": "stream",
     "text": [
      "[' Machine-op-inspct' ' Farming-fishing' ' Protective-serv'\n",
      " ' Prof-specialty' ' Other-service' ' Craft-repair' ' Adm-clerical'\n",
      " ' Exec-managerial' ' Tech-support' ' Sales' ' Priv-house-serv'\n",
      " ' Transport-moving' ' Handlers-cleaners' ' Armed-Forces']\n",
      "[ 7  9 12  5  2  1  8  4  0  3 11 10  6 13]\n"
     ]
    }
   ],
   "source": [
    "print(test_data[\"occupation\"].unique())\n",
    "Occupation = [' Tech-support',' Craft-repair',' Other-service',' Sales',' Exec-managerial', \n",
    "             ' Prof-specialty',' Handlers-cleaners',' Machine-op-inspct', \n",
    "             ' Adm-clerical',' Farming-fishing', \n",
    "             ' Transport-moving',' Priv-house-serv',' Protective-serv',' Armed-Forces']\n",
    "j = 0\n",
    "for i in Occupation:\n",
    "    test_data.loc[test_data[\"occupation\"] == i, \"occupation\"] = j\n",
    "    j += 1\n",
    "print(test_data[\"occupation\"].unique())"
   ]
  },
  {
   "cell_type": "code",
   "execution_count": 39,
   "metadata": {},
   "outputs": [
    {
     "name": "stdout",
     "output_type": "stream",
     "text": [
      "[' Own-child' ' Husband' ' Not-in-family' ' Unmarried' ' Wife'\n",
      " ' Other-relative']\n",
      "[1 2 3 5 0 4]\n"
     ]
    }
   ],
   "source": [
    "print(test_data[\"relationship\"].unique())\n",
    "Relationship = [' Wife',' Own-child',' Husband',' Not-in-family',' Other-relative',' Unmarried']\n",
    "j = 0\n",
    "for i in Relationship:\n",
    "    test_data.loc[test_data[\"relationship\"] == i, \"relationship\"] = j\n",
    "    j += 1\n",
    "print(test_data[\"relationship\"].unique())"
   ]
  },
  {
   "cell_type": "code",
   "execution_count": 40,
   "metadata": {},
   "outputs": [
    {
     "name": "stdout",
     "output_type": "stream",
     "text": [
      "[' Black' ' White' ' Asian-Pac-Islander' ' Other' ' Amer-Indian-Eskimo']\n",
      "[4 0 1 3 2]\n"
     ]
    }
   ],
   "source": [
    "print(test_data[\"race\"].unique())\n",
    "Race = [' White',' Asian-Pac-Islander',' Amer-Indian-Eskimo',' Other',' Black']\n",
    "j = 0\n",
    "for i in Race:\n",
    "    test_data.loc[test_data[\"race\"] == i, \"race\"] = j\n",
    "    j += 1\n",
    "print(test_data[\"race\"].unique())"
   ]
  },
  {
   "cell_type": "code",
   "execution_count": 41,
   "metadata": {},
   "outputs": [
    {
     "name": "stdout",
     "output_type": "stream",
     "text": [
      "[' Male' ' Female']\n",
      "[1 0]\n"
     ]
    }
   ],
   "source": [
    "print(test_data[\"sex\"].unique())\n",
    "Sex = [' Female',' Male']\n",
    "j = 0\n",
    "for i in Sex:\n",
    "    test_data.loc[test_data[\"sex\"] == i, \"sex\"] = j\n",
    "    j += 1\n",
    "print(test_data[\"sex\"].unique())"
   ]
  },
  {
   "cell_type": "code",
   "execution_count": 42,
   "metadata": {},
   "outputs": [
    {
     "name": "stdout",
     "output_type": "stream",
     "text": [
      "[' United-States' ' Peru' ' Guatemala' ' Mexico' ' Dominican-Republic'\n",
      " ' Ireland' ' Germany' ' Philippines' ' Thailand' ' Haiti' ' El-Salvador'\n",
      " ' Puerto-Rico' ' Vietnam' ' South' ' Columbia' ' Japan' ' India'\n",
      " ' Cambodia' ' Poland' ' Laos' ' England' ' Cuba' ' Taiwan' ' Italy'\n",
      " ' Canada' ' Portugal' ' China' ' Nicaragua' ' Honduras' ' Iran'\n",
      " ' Scotland' ' Jamaica' ' Ecuador' ' Yugoslavia' ' Hungary' ' Hong'\n",
      " ' Greece' ' Trinadad&Tobago' ' Outlying-US(Guam-USVI-etc)' ' France']\n",
      "[ 0  1  2  3  4  5  6  7  8  9 10 11 12 13 14 15 16 17 18 19 20 21 22 23\n",
      " 24 25 26 27 28 29 30 31 32 33 34 35 36 37 38 39]\n"
     ]
    }
   ],
   "source": [
    "print(test_data[\"native-country\"].unique())\n",
    "Native = [' United-States',' Peru',' Guatemala' ,' Mexico' ,' Dominican-Republic',\n",
    " ' Ireland', ' Germany' ,' Philippines' ,' Thailand', ' Haiti', ' El-Salvador',\n",
    " ' Puerto-Rico', ' Vietnam', ' South', ' Columbia', ' Japan', ' India',\n",
    " ' Cambodia', ' Poland', ' Laos', ' England', ' Cuba', ' Taiwan', ' Italy',\n",
    " ' Canada', ' Portugal', ' China' ,' Nicaragua', ' Honduras', ' Iran',\n",
    " ' Scotland', ' Jamaica', ' Ecuador', ' Yugoslavia' ,' Hungary', ' Hong',\n",
    " ' Greece', ' Trinadad&Tobago', ' Outlying-US(Guam-USVI-etc)', ' France']\n",
    "j = 0\n",
    "for i in Native:\n",
    "    test_data.loc[test_data[\"native-country\"] == i, \"native-country\"] = j\n",
    "    j += 1\n",
    "print(test_data[\"native-country\"].unique())"
   ]
  },
  {
   "cell_type": "code",
   "execution_count": 43,
   "metadata": {},
   "outputs": [
    {
     "name": "stdout",
     "output_type": "stream",
     "text": [
      "[' <=50K.' ' >50K.']\n",
      "[1 0]\n"
     ]
    }
   ],
   "source": [
    "print(test_data[\"classification\"].unique())\n",
    "Classification = [\" >50K.\", \" <=50K.\"]\n",
    "j = 0\n",
    "for i in Classification:\n",
    "    test_data.loc[test_data[\"classification\"] == i, \"classification\"] = j\n",
    "    j += 1\n",
    "print(test_data[\"classification\"].unique())"
   ]
  },
  {
   "cell_type": "code",
   "execution_count": 44,
   "metadata": {},
   "outputs": [],
   "source": [
    "test = test_data.drop(columns=['classification']) # test_x"
   ]
  },
  {
   "cell_type": "code",
   "execution_count": 45,
   "metadata": {},
   "outputs": [
    {
     "name": "stdout",
     "output_type": "stream",
     "text": [
      "(16281, 14)\n"
     ]
    }
   ],
   "source": [
    "print(test.shape)\n",
    "prd_test = alg.predict(test)"
   ]
  },
  {
   "cell_type": "code",
   "execution_count": 46,
   "metadata": {},
   "outputs": [],
   "source": [
    "true_test = test_data[\"classification\"] # test_y"
   ]
  },
  {
   "cell_type": "code",
   "execution_count": 47,
   "metadata": {},
   "outputs": [
    {
     "name": "stdout",
     "output_type": "stream",
     "text": [
      "[1 1 1 0 1 1 1 0 1 1]\n",
      "0    1\n",
      "1    1\n",
      "2    0\n",
      "3    0\n",
      "4    1\n",
      "5    1\n",
      "6    1\n",
      "7    0\n",
      "8    1\n",
      "9    1\n",
      "Name: classification, dtype: int64\n"
     ]
    }
   ],
   "source": [
    "print(prd_test[:10])\n",
    "print(true_test[:10])"
   ]
  },
  {
   "cell_type": "code",
   "execution_count": 48,
   "metadata": {},
   "outputs": [
    {
     "name": "stdout",
     "output_type": "stream",
     "text": [
      "0.8006264971439101\n"
     ]
    }
   ],
   "source": [
    "#测试准确度\n",
    "sum = 0\n",
    "for i in range(0,len(prd_test)):\n",
    "    if prd_test[i] == true_test[i]:\n",
    "        sum += 1\n",
    "print(1.0 * sum / len(prd_test))"
   ]
  },
  {
   "cell_type": "code",
   "execution_count": 699,
   "metadata": {},
   "outputs": [],
   "source": [
    "#KNN\n",
    "from sklearn import cross_validation\n",
    "from sklearn.neighbors import KNeighborsClassifier\n",
    "alg = KNeighborsClassifier(n_neighbors=27)\n",
    "alg.fit(train_data[predictors], train_data[\"classification\"])\n",
    "test = test_data.drop(columns=['classification']) # 取出 test_y\n",
    "prd_test = alg.predict(test)"
   ]
  },
  {
   "cell_type": "code",
   "execution_count": 700,
   "metadata": {},
   "outputs": [
    {
     "name": "stdout",
     "output_type": "stream",
     "text": [
      "0.802837663534181\n"
     ]
    }
   ],
   "source": [
    "sum = 0\n",
    "for i in range(0,len(prd_test)):\n",
    "    if int(prd_test[i]) == true_test[i]:\n",
    "        sum += 1\n",
    "print(1.0 * sum / len(prd_test))"
   ]
  },
  {
   "cell_type": "code",
   "execution_count": 552,
   "metadata": {},
   "outputs": [],
   "source": [
    "from sklearn import cross_validation\n",
    "from sklearn.tree import DecisionTreeClassifier\n",
    "alg = DecisionTreeClassifier(max_depth=9)\n",
    "alg.fit(train_data[predictors], train_data[\"classification\"])\n",
    "test = test_data.drop(columns=['classification'])\n",
    "prd_test = alg.predict(test)"
   ]
  },
  {
   "cell_type": "code",
   "execution_count": 553,
   "metadata": {},
   "outputs": [
    {
     "name": "stdout",
     "output_type": "stream",
     "text": [
      "0.857379767827529\n"
     ]
    }
   ],
   "source": [
    "sum = 0\n",
    "for i in range(0,len(prd_test)):\n",
    "    if int(prd_test[i]) == true_test[i]:\n",
    "        sum += 1\n",
    "print(1.0 * sum / len(prd_test))"
   ]
  },
  {
   "cell_type": "code",
   "execution_count": 718,
   "metadata": {},
   "outputs": [
    {
     "name": "stderr",
     "output_type": "stream",
     "text": [
      "/home/mzl/anaconda3/lib/python3.6/site-packages/sklearn/preprocessing/label.py:151: DeprecationWarning: The truth value of an empty array is ambiguous. Returning False, but in future this will result in an error. Use `array.size > 0` to check that an array is not empty.\n",
      "  if diff:\n"
     ]
    }
   ],
   "source": [
    "from sklearn import cross_validation\n",
    "from sklearn.tree import DecisionTreeClassifier\n",
    "from sklearn.neighbors import KNeighborsClassifier\n",
    "from itertools import product\n",
    "from sklearn.ensemble import VotingClassifier\n",
    "from sklearn.linear_model import LogisticRegression\n",
    "clf1 = DecisionTreeClassifier(max_depth=9)  # 微调模型参数\n",
    "clf2 = KNeighborsClassifier(n_neighbors=7)\n",
    "clf3 = LogisticRegression(random_state = 1)\n",
    "\n",
    "#调节模型融合权重：weight：dt:knn:log = 23：3：0\n",
    "alg = VotingClassifier(estimators=[('dt', clf1), ('knn', clf2), ('log', clf3)], voting='soft',weights=[23,3,0])\n",
    "alg.fit(train_data[predictors], train_data[\"classification\"])\n",
    "test = test_data.drop(columns=['classification'])\n",
    "prd_test = alg.predict(test)"
   ]
  },
  {
   "cell_type": "code",
   "execution_count": 719,
   "metadata": {},
   "outputs": [
    {
     "name": "stdout",
     "output_type": "stream",
     "text": [
      "0.8602051471039862\n"
     ]
    }
   ],
   "source": [
    "sum = 0\n",
    "for i in range(0,len(prd_test)):\n",
    "    if int(prd_test[i]) == true_test[i]:\n",
    "        sum += 1\n",
    "print(1.0 * sum / len(prd_test))"
   ]
  },
  {
   "cell_type": "code",
   "execution_count": 173,
   "metadata": {},
   "outputs": [],
   "source": [
    "predictors =['age','workclass','fnlwgt','education','education-num',\n",
    "                                'marital-status','occupation','relationship','race','sex',\n",
    "                                'capital-gain','capital-loss',\n",
    "                                'hours-per-week','native-country']"
   ]
  },
  {
   "cell_type": "code",
   "execution_count": 61,
   "metadata": {},
   "outputs": [],
   "source": [
    "import numpy as np\n",
    "from sklearn.feature_selection import SelectKBest, f_classif\n",
    "import matplotlib.pyplot as plt"
   ]
  },
  {
   "cell_type": "code",
   "execution_count": 561,
   "metadata": {},
   "outputs": [
    {
     "name": "stderr",
     "output_type": "stream",
     "text": [
      "/home/mzl/anaconda3/lib/python3.6/site-packages/ipykernel_launcher.py:5: RuntimeWarning: divide by zero encountered in log10\n",
      "  \"\"\"\n"
     ]
    },
    {
     "data": {
      "image/png": "[encoded data removed]",
      "text/plain": [
       "<matplotlib.figure.Figure at 0x7f29315ca438>"
      ]
     },
     "metadata": {},
     "output_type": "display_data"
    }
   ],
   "source": [
    "#可视化每个特征对最终结果的影响程度\n",
    "selector = SelectKBest(f_classif, k = 5)\n",
    "selector.fit(test_data[predictors], test_data[\"classification\"])\n",
    "\n",
    "scores = -np.log10(selector.pvalues_)\n",
    "plt.bar(range(len(predictors)), scores)\n",
    "plt.xticks(range(len(predictors)), predictors, rotation = 'vertical')\n",
    "plt.show()"
   ]
  },
  {
   "cell_type": "code",
   "execution_count": 676,
   "metadata": {},
   "outputs": [],
   "source": [
    "#使用决定作用比较大的特征列\n",
    "new_predictors  =['age','workclass','occupation','relationship','race','sex',\n",
    "                                'capital-gain','capital-loss',\n",
    "                                'hours-per-week']"
   ]
  },
  {
   "cell_type": "code",
   "execution_count": 677,
   "metadata": {},
   "outputs": [
    {
     "name": "stdout",
     "output_type": "stream",
     "text": [
      "(16281, 9)\n"
     ]
    }
   ],
   "source": [
    "# 去除决定作用比较小的特征列，保留定作用比较大的特征列\n",
    "test = test_data.drop(columns=['classification','fnlwgt','education','education-num',\n",
    "                                'marital-status','native-country'])\n",
    "print(test.shape)"
   ]
  },
  {
   "cell_type": "code",
   "execution_count": 693,
   "metadata": {},
   "outputs": [],
   "source": [
    "from sklearn import cross_validation\n",
    "from sklearn.tree import DecisionTreeClassifier\n",
    "alg = DecisionTreeClassifier(max_depth=9)\n",
    "alg.fit(train_data[new_predictors], train_data[\"classification\"])\n",
    "prd_test = alg.predict(test)"
   ]
  },
  {
   "cell_type": "code",
   "execution_count": 694,
   "metadata": {},
   "outputs": [
    {
     "name": "stdout",
     "output_type": "stream",
     "text": [
      "0.8497021067501996\n"
     ]
    }
   ],
   "source": [
    "sum = 0\n",
    "for i in range(0,len(prd_test)):\n",
    "    if int(prd_test[i]) == true_test[i]:\n",
    "        sum += 1\n",
    "print(1.0 * sum / len(prd_test))"
   ]
  },
  {
   "cell_type": "code",
   "execution_count": 688,
   "metadata": {},
   "outputs": [],
   "source": [
    "from sklearn import cross_validation\n",
    "from sklearn.neighbors import KNeighborsClassifier\n",
    "alg = KNeighborsClassifier(n_neighbors=11)\n",
    "alg.fit(train_data[new_predictors], train_data[\"classification\"])\n",
    "prd_test = alg.predict(test)"
   ]
  },
  {
   "cell_type": "code",
   "execution_count": 681,
   "metadata": {},
   "outputs": [
    {
     "name": "stdout",
     "output_type": "stream",
     "text": [
      "0.837847798046803\n"
     ]
    }
   ],
   "source": [
    "sum = 0\n",
    "for i in range(0,len(prd_test)):\n",
    "    if int(prd_test[i]) == true_test[i]:\n",
    "        sum += 1\n",
    "print(1.0 * sum / len(prd_test))"
   ]
  },
  {
   "cell_type": "code",
   "execution_count": 682,
   "metadata": {},
   "outputs": [],
   "source": [
    "from sklearn import cross_validation\n",
    "from sklearn.linear_model import LogisticRegression\n",
    "alg = LogisticRegression(random_state = 1)\n",
    "alg.fit(train_data[new_predictors], train_data[\"classification\"])\n",
    "prd_test = alg.predict(test)"
   ]
  },
  {
   "cell_type": "code",
   "execution_count": 683,
   "metadata": {
    "scrolled": true
   },
   "outputs": [
    {
     "name": "stdout",
     "output_type": "stream",
     "text": [
      "0.8032676125545114\n"
     ]
    }
   ],
   "source": [
    "sum = 0\n",
    "for i in range(0,len(prd_test)):\n",
    "    if int(prd_test[i]) == true_test[i]:\n",
    "        sum += 1\n",
    "print(1.0 * sum / len(prd_test))"
   ]
  },
  {
   "cell_type": "code",
   "execution_count": 671,
   "metadata": {},
   "outputs": [
    {
     "name": "stderr",
     "output_type": "stream",
     "text": [
      "/home/mzl/anaconda3/lib/python3.6/site-packages/sklearn/preprocessing/label.py:151: DeprecationWarning: The truth value of an empty array is ambiguous. Returning False, but in future this will result in an error. Use `array.size > 0` to check that an array is not empty.\n",
      "  if diff:\n"
     ]
    }
   ],
   "source": [
    "from sklearn import cross_validation\n",
    "from sklearn.tree import DecisionTreeClassifier\n",
    "from sklearn.neighbors import KNeighborsClassifier\n",
    "from itertools import product\n",
    "from sklearn.ensemble import VotingClassifier\n",
    "from sklearn.linear_model import LogisticRegression\n",
    "clf1 = DecisionTreeClassifier(max_depth=9) # 微调模型参数\n",
    "clf2 = KNeighborsClassifier(n_neighbors=11)\n",
    "clf3 = LogisticRegression(random_state = 1)\n",
    "\n",
    "#模型融合：weight：dt:knn:log = 7: 5：1\n",
    "alg = VotingClassifier(estimators=[('dt', clf1), ('knn', clf2), ('log', clf3)], voting='soft',weights=[7,5,1])\n",
    "alg.fit(train_data[new_predictors], train_data[\"classification\"])\n",
    "prd_test = alg.predict(test)"
   ]
  },
  {
   "cell_type": "code",
   "execution_count": 672,
   "metadata": {},
   "outputs": [
    {
     "name": "stdout",
     "output_type": "stream",
     "text": [
      "0.858731036177139\n"
     ]
    }
   ],
   "source": [
    "sum = 0\n",
    "for i in range(0,len(prd_test)):\n",
    "    if int(prd_test[i]) == true_test[i]:\n",
    "        sum += 1\n",
    "print(1.0 * sum / len(prd_test))"
   ]
  },
  {
   "cell_type": "code",
   "execution_count": null,
   "metadata": {},
   "outputs": [],
   "source": []
  }
 ],
 "metadata": {
  "kernelspec": {
   "display_name": "Python 3",
   "language": "python",
   "name": "python3"
  },
  "language_info": {
   "codemirror_mode": {
    "name": "ipython",
    "version": 3
   },
   "file_extension": ".py",
   "mimetype": "text/x-python",
   "name": "python",
   "nbconvert_exporter": "python",
   "pygments_lexer": "ipython3",
   "version": "3.6.4"
  }
 },
 "nbformat": 4,
 "nbformat_minor": 2
}
